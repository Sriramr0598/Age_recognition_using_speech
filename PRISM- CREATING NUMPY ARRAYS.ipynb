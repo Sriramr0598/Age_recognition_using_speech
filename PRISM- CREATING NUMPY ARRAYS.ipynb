{
 "cells": [
  {
   "cell_type": "code",
   "execution_count": 1,
   "metadata": {},
   "outputs": [],
   "source": [
    "import numpy as np\n",
    "import pandas as pd\n",
    "\n",
    "# define function to one hot encode labels\n",
    "def one_hot_encode(labels,possible_labels): \n",
    "\n",
    "\n",
    "    num_categories = len(possible_labels)\n",
    "    ohe_labels = np.zeros((len(labels),num_categories))\n",
    "\n",
    "    for i in range(len(labels)):\n",
    "        j = np.where(possible_labels == labels[i])\n",
    "        ohe_labels[i,j] = 1\n",
    "\n",
    "    return ohe_labels\n",
    "\n",
    "possible_labels = np.array(['teens','twenties','thirties','fourties',\n",
    "    'fifties','sixties','seventies','eighties'])\n",
    "\n",
    "# read in the csv file and put it in the dataframe\n",
    "df_train = pd.read_csv(r\"Desktop\\\\audio_training_data_cleaned.csv\")\n",
    "\n",
    "# drop any null values we may have forgotten\n",
    "df_train = df_train.dropna(how='any',axis=0)\n",
    "\n",
    "# split into X_train and y_train\n",
    "X_train = df_train.drop(columns=['filename','age','Unnamed: 0']).values\n",
    "y_train = list(df_train['age'])\n",
    "\n",
    "y_train_ohe = one_hot_encode(y_train,possible_labels)\n",
    "\n",
    "# now we need to test data against the testing set\n",
    "# import testing set\n",
    "df_test = pd.read_csv(r\"D:\\\\audio_test_data_cleaned.csv\")\n",
    "# drop any null values we may have forgotten\n",
    "df_test = df_test.dropna(how='any',axis=0)\n",
    "\n",
    "X_test = df_test.drop(columns=['filename','age']).values\n",
    "y_test = list(df_test['age'])\n",
    "\n",
    "y_test_ohe = one_hot_encode(y_test,possible_labels)\n",
    "\n",
    "# now save the numpy arrays to disk\n",
    "np.save(\"D:\\\\training_feature_arr_MLP.npy\",X_train)\n",
    "np.save(\"D:\\\\testing_feature_arr_MLP.npy\",X_test)\n",
    "np.save(\"D:\\\\training_labels_MLP.npy\",y_train_ohe)\n",
    "np.save(\"D:\\\\testing_labels_MLP.npy\",y_test_ohe)"
   ]
  },
  {
   "cell_type": "code",
   "execution_count": null,
   "metadata": {},
   "outputs": [],
   "source": []
  }
 ],
 "metadata": {
  "kernelspec": {
   "display_name": "Python 3",
   "language": "python",
   "name": "python3"
  },
  "language_info": {
   "codemirror_mode": {
    "name": "ipython",
    "version": 3
   },
   "file_extension": ".py",
   "mimetype": "text/x-python",
   "name": "python",
   "nbconvert_exporter": "python",
   "pygments_lexer": "ipython3",
   "version": "3.6.5"
  }
 },
 "nbformat": 4,
 "nbformat_minor": 2
}
